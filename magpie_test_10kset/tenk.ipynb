{
 "cells": [
  {
   "cell_type": "code",
   "execution_count": 1,
   "metadata": {},
   "outputs": [
    {
     "name": "stderr",
     "output_type": "stream",
     "text": [
      "Using TensorFlow backend.\n"
     ]
    }
   ],
   "source": [
    "from magpie import Magpie\n",
    "\n",
    "magpie = Magpie()"
   ]
  },
  {
   "cell_type": "code",
   "execution_count": 6,
   "metadata": {},
   "outputs": [
    {
     "name": "stderr",
     "output_type": "stream",
     "text": [
      "WARNING! Overwriting already trained word2vec model.\n",
      "WARNING! Overwriting already fitted scaler.\n"
     ]
    },
    {
     "name": "stdout",
     "output_type": "stream",
     "text": [
      "Fitted to 8441 vectors\n",
      "Fitted to 9517 vectors\n",
      "Fitted to 8973 vectors\n",
      "Fitted to 8521 vectors\n",
      "Fitted to 8269 vectors\n",
      "Fitted to 8589 vectors\n",
      "Fitted to 9211 vectors\n",
      "Fitted to 8217 vectors\n",
      "Fitted to 8191 vectors\n",
      "Fitted to 6506 vectors\n"
     ]
    }
   ],
   "source": [
    "magpie.init_word_vectors('data', vec_dim=100)"
   ]
  },
  {
   "cell_type": "code",
   "execution_count": 7,
   "metadata": {
    "scrolled": true
   },
   "outputs": [
    {
     "name": "stderr",
     "output_type": "stream",
     "text": [
      "WARNING! Overwriting already trained Keras model.\n"
     ]
    },
    {
     "name": "stdout",
     "output_type": "stream",
     "text": [
      "WARNING:tensorflow:From C:\\Users\\Koral\\Anaconda3\\lib\\site-packages\\tensorflow\\python\\ops\\math_ops.py:3066: to_int32 (from tensorflow.python.ops.math_ops) is deprecated and will be removed in a future version.\n",
      "Instructions for updating:\n",
      "Use tf.cast instead.\n",
      "Train on 7996 samples, validate on 1999 samples\n",
      "Epoch 1/30\n",
      "7996/7996 [==============================] - 135s 17ms/step - loss: 0.3575 - top_k_categorical_accuracy: 1.0000 - val_loss: 0.2770 - val_top_k_categorical_accuracy: 1.0000\n",
      "Epoch 2/30\n",
      "7996/7996 [==============================] - 129s 16ms/step - loss: 0.2733 - top_k_categorical_accuracy: 1.0000 - val_loss: 0.2442 - val_top_k_categorical_accuracy: 1.0000\n",
      "Epoch 3/30\n",
      "7996/7996 [==============================] - 132s 17ms/step - loss: 0.2462 - top_k_categorical_accuracy: 1.0000 - val_loss: 0.2410 - val_top_k_categorical_accuracy: 1.0000\n",
      "Epoch 4/30\n",
      "7996/7996 [==============================] - 129s 16ms/step - loss: 0.2284 - top_k_categorical_accuracy: 1.0000 - val_loss: 0.2212 - val_top_k_categorical_accuracy: 1.0000\n",
      "Epoch 5/30\n",
      "7996/7996 [==============================] - 125s 16ms/step - loss: 0.2181 - top_k_categorical_accuracy: 1.0000 - val_loss: 0.2192 - val_top_k_categorical_accuracy: 1.0000\n",
      "Epoch 6/30\n",
      "7996/7996 [==============================] - 125s 16ms/step - loss: 0.2047 - top_k_categorical_accuracy: 1.0000 - val_loss: 0.2087 - val_top_k_categorical_accuracy: 1.0000\n",
      "Epoch 7/30\n",
      "7996/7996 [==============================] - 128s 16ms/step - loss: 0.1966 - top_k_categorical_accuracy: 1.0000 - val_loss: 0.2033 - val_top_k_categorical_accuracy: 1.0000\n",
      "Epoch 8/30\n",
      "7996/7996 [==============================] - 130s 16ms/step - loss: 0.1862 - top_k_categorical_accuracy: 1.0000 - val_loss: 0.2017 - val_top_k_categorical_accuracy: 1.0000\n",
      "Epoch 9/30\n",
      "7996/7996 [==============================] - 130s 16ms/step - loss: 0.1830 - top_k_categorical_accuracy: 1.0000 - val_loss: 0.1932 - val_top_k_categorical_accuracy: 1.0000\n",
      "Epoch 10/30\n",
      "7996/7996 [==============================] - 130s 16ms/step - loss: 0.1741 - top_k_categorical_accuracy: 1.0000 - val_loss: 0.1878 - val_top_k_categorical_accuracy: 1.0000\n",
      "Epoch 11/30\n",
      "7996/7996 [==============================] - 129s 16ms/step - loss: 0.1662 - top_k_categorical_accuracy: 1.0000 - val_loss: 0.1854 - val_top_k_categorical_accuracy: 1.0000\n",
      "Epoch 12/30\n",
      "7996/7996 [==============================] - 125s 16ms/step - loss: 0.1630 - top_k_categorical_accuracy: 1.0000 - val_loss: 0.1897 - val_top_k_categorical_accuracy: 1.0000\n",
      "Epoch 13/30\n",
      "7996/7996 [==============================] - 124s 16ms/step - loss: 0.1550 - top_k_categorical_accuracy: 1.0000 - val_loss: 0.1916 - val_top_k_categorical_accuracy: 1.0000\n",
      "Epoch 14/30\n",
      "7996/7996 [==============================] - 124s 16ms/step - loss: 0.1520 - top_k_categorical_accuracy: 1.0000 - val_loss: 0.1783 - val_top_k_categorical_accuracy: 1.0000\n",
      "Epoch 15/30\n",
      "7996/7996 [==============================] - 129s 16ms/step - loss: 0.1490 - top_k_categorical_accuracy: 1.0000 - val_loss: 0.1751 - val_top_k_categorical_accuracy: 1.0000\n",
      "Epoch 16/30\n",
      "7996/7996 [==============================] - 133s 17ms/step - loss: 0.1427 - top_k_categorical_accuracy: 1.0000 - val_loss: 0.1777 - val_top_k_categorical_accuracy: 1.0000\n",
      "Epoch 17/30\n",
      "7996/7996 [==============================] - 130s 16ms/step - loss: 0.1357 - top_k_categorical_accuracy: 1.0000 - val_loss: 0.1710 - val_top_k_categorical_accuracy: 1.0000\n",
      "Epoch 18/30\n",
      "7996/7996 [==============================] - 129s 16ms/step - loss: 0.1354 - top_k_categorical_accuracy: 1.0000 - val_loss: 0.1684 - val_top_k_categorical_accuracy: 1.0000\n",
      "Epoch 19/30\n",
      "7996/7996 [==============================] - 128s 16ms/step - loss: 0.1306 - top_k_categorical_accuracy: 1.0000 - val_loss: 0.1726 - val_top_k_categorical_accuracy: 1.0000\n",
      "Epoch 20/30\n",
      "7996/7996 [==============================] - 127s 16ms/step - loss: 0.1262 - top_k_categorical_accuracy: 1.0000 - val_loss: 0.1711 - val_top_k_categorical_accuracy: 1.0000\n",
      "Epoch 21/30\n",
      "7996/7996 [==============================] - 132s 16ms/step - loss: 0.1254 - top_k_categorical_accuracy: 1.0000 - val_loss: 0.1703 - val_top_k_categorical_accuracy: 1.0000\n",
      "Epoch 22/30\n",
      "7996/7996 [==============================] - 132s 16ms/step - loss: 0.1194 - top_k_categorical_accuracy: 1.0000 - val_loss: 0.1673 - val_top_k_categorical_accuracy: 1.0000\n",
      "Epoch 23/30\n",
      "7996/7996 [==============================] - 132s 16ms/step - loss: 0.1143 - top_k_categorical_accuracy: 1.0000 - val_loss: 0.1625 - val_top_k_categorical_accuracy: 1.0000\n",
      "Epoch 24/30\n",
      "7996/7996 [==============================] - 134s 17ms/step - loss: 0.1132 - top_k_categorical_accuracy: 1.0000 - val_loss: 0.1601 - val_top_k_categorical_accuracy: 1.0000\n",
      "Epoch 25/30\n",
      "7996/7996 [==============================] - 130s 16ms/step - loss: 0.1104 - top_k_categorical_accuracy: 1.0000 - val_loss: 0.1677 - val_top_k_categorical_accuracy: 1.0000\n",
      "Epoch 26/30\n",
      "7996/7996 [==============================] - 127s 16ms/step - loss: 0.1055 - top_k_categorical_accuracy: 1.0000 - val_loss: 0.1636 - val_top_k_categorical_accuracy: 1.0000\n",
      "Epoch 27/30\n",
      "7996/7996 [==============================] - 126s 16ms/step - loss: 0.1049 - top_k_categorical_accuracy: 1.0000 - val_loss: 0.1648 - val_top_k_categorical_accuracy: 1.0000\n",
      "Epoch 28/30\n",
      "7996/7996 [==============================] - 127s 16ms/step - loss: 0.1044 - top_k_categorical_accuracy: 1.0000 - val_loss: 0.1742 - val_top_k_categorical_accuracy: 1.0000\n",
      "Epoch 29/30\n",
      "7996/7996 [==============================] - 130s 16ms/step - loss: 0.1015 - top_k_categorical_accuracy: 1.0000 - val_loss: 0.1677 - val_top_k_categorical_accuracy: 1.0000\n",
      "Epoch 30/30\n",
      "7996/7996 [==============================] - 120s 15ms/step - loss: 0.1005 - top_k_categorical_accuracy: 1.0000 - val_loss: 0.1664 - val_top_k_categorical_accuracy: 1.0000\n"
     ]
    },
    {
     "data": {
      "text/plain": [
       "<keras.callbacks.History at 0x22877904f28>"
      ]
     },
     "execution_count": 7,
     "metadata": {},
     "output_type": "execute_result"
    }
   ],
   "source": [
    "labels = ['b', 't', 'e', 'm']\n",
    "magpie.train('data', labels, test_ratio=0.2, epochs=30)\n",
    "#more epoch = more understanding of vector and lower lose rate"
   ]
  },
  {
   "cell_type": "code",
   "execution_count": 9,
   "metadata": {
    "scrolled": true
   },
   "outputs": [
    {
     "data": {
      "text/plain": [
       "[('b', 0.9629637),\n",
       " ('m', 0.093647785),\n",
       " ('t', 0.003326112),\n",
       " ('e', 5.7898096e-06)]"
      ]
     },
     "execution_count": 9,
     "metadata": {},
     "output_type": "execute_result"
    }
   ],
   "source": [
    "magpie.predict_from_text('ECB to reveal bad loan hurdles for euro zone bank test')"
   ]
  },
  {
   "cell_type": "code",
   "execution_count": 10,
   "metadata": {},
   "outputs": [
    {
     "data": {
      "text/plain": [
       "[('b', 0.9878683), ('t', 0.020161293), ('m', 0.01176966), ('e', 0.00042728934)]"
      ]
     },
     "execution_count": 10,
     "metadata": {},
     "output_type": "execute_result"
    }
   ],
   "source": [
    "magpie.predict_from_text('Nasty Weather Has Curbed Job Growth')"
   ]
  },
  {
   "cell_type": "code",
   "execution_count": 11,
   "metadata": {},
   "outputs": [],
   "source": [
    "magpie.save_word2vec_model('C:\\\\Users\\\\Koral\\\\Desktop\\\\tenk\\\\model2')"
   ]
  },
  {
   "cell_type": "code",
   "execution_count": 12,
   "metadata": {},
   "outputs": [],
   "source": [
    "magpie.save_scaler('C:\\\\Users\\\\Koral\\\\Desktop\\\\tenk\\\\scaler2', overwrite=True)\n",
    "#saving scaler for future use"
   ]
  },
  {
   "cell_type": "code",
   "execution_count": 13,
   "metadata": {},
   "outputs": [],
   "source": [
    "magpie.save_model('C:\\\\Users\\\\Koral\\\\Desktop\\\\tenk\\\\kerasModel2.h5')\n",
    "#saving keras model for future use"
   ]
  },
  {
   "cell_type": "code",
   "execution_count": 15,
   "metadata": {},
   "outputs": [
    {
     "data": {
      "text/plain": [
       "[('b', 0.972763), ('e', 0.061096985), ('m', 0.012499095), ('t', 0.00016401365)]"
      ]
     },
     "execution_count": 15,
     "metadata": {},
     "output_type": "execute_result"
    }
   ],
   "source": [
    "magpie.predict_from_text('Emirates chief commercial officer resigns after airlines profit dives')"
   ]
  },
  {
   "cell_type": "code",
   "execution_count": null,
   "metadata": {},
   "outputs": [],
   "source": []
  }
 ],
 "metadata": {
  "kernelspec": {
   "display_name": "Python 3",
   "language": "python",
   "name": "python3"
  },
  "language_info": {
   "codemirror_mode": {
    "name": "ipython",
    "version": 3
   },
   "file_extension": ".py",
   "mimetype": "text/x-python",
   "name": "python",
   "nbconvert_exporter": "python",
   "pygments_lexer": "ipython3",
   "version": "3.7.1"
  }
 },
 "nbformat": 4,
 "nbformat_minor": 2
}
