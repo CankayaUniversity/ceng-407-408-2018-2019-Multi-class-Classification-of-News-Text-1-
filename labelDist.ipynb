{
 "cells": [
  {
   "cell_type": "code",
   "execution_count": 44,
   "metadata": {},
   "outputs": [],
   "source": [
    "from magpie import Magpie\n",
    "\n",
    "magpie = Magpie()"
   ]
  },
  {
   "cell_type": "code",
   "execution_count": 45,
   "metadata": {},
   "outputs": [],
   "source": [
    "magpie = Magpie(\n",
    "    keras_model='C:\\\\Users\\\\Koral\\\\Desktop\\\\mag\\\\kerasModel2.h5',\n",
    "    word2vec_model='C:\\\\Users\\\\Koral\\\\Desktop\\\\mag\\\\model2',\n",
    "    scaler='C:\\\\Users\\\\Koral\\\\Desktop\\\\mag\\\\scaler2',\n",
    "    labels = ['Business', 'SciTech', 'Sports', 'World']\n",
    ")"
   ]
  },
  {
   "cell_type": "code",
   "execution_count": 16,
   "metadata": {},
   "outputs": [
    {
     "data": {
      "text/plain": [
       "[('Sports', 0.99120903),\n",
       " ('World', 0.17106242),\n",
       " ('Business', 0.037371393),\n",
       " ('SciTech', 0.030411003)]"
      ]
     },
     "execution_count": 16,
     "metadata": {},
     "output_type": "execute_result"
    }
   ],
   "source": [
    " magpie.predict_from_text('Manchester United vs Chelsea')"
   ]
  },
  {
   "cell_type": "code",
   "execution_count": 17,
   "metadata": {},
   "outputs": [
    {
     "data": {
      "text/plain": [
       "[('World', 0.88106626),\n",
       " ('Sports', 0.080171764),\n",
       " ('Business', 0.0631277),\n",
       " ('SciTech', 0.03544879)]"
      ]
     },
     "execution_count": 17,
     "metadata": {},
     "output_type": "execute_result"
    }
   ],
   "source": [
    " magpie.predict_from_text('President went to another country')"
   ]
  },
  {
   "cell_type": "code",
   "execution_count": 60,
   "metadata": {},
   "outputs": [
    {
     "data": {
      "text/plain": [
       "[('SciTech', 0.38587132),\n",
       " ('World', 0.21149898),\n",
       " ('Business', 0.20129107),\n",
       " ('Sports', 0.090736315)]"
      ]
     },
     "execution_count": 60,
     "metadata": {},
     "output_type": "execute_result"
    }
   ],
   "source": [
    " magpie.predict_from_text('Teslas space ship arrived to Mars')"
   ]
  },
  {
   "cell_type": "code",
   "execution_count": 66,
   "metadata": {},
   "outputs": [
    {
     "data": {
      "text/plain": [
       "[('SciTech', 0.8191171),\n",
       " ('Sports', 0.6788488),\n",
       " ('World', 0.3051077),\n",
       " ('Business', 0.15982561)]"
      ]
     },
     "execution_count": 66,
     "metadata": {},
     "output_type": "execute_result"
    }
   ],
   "source": [
    " magpie.predict_from_text('animal species')"
   ]
  },
  {
   "cell_type": "code",
   "execution_count": 1,
   "metadata": {},
   "outputs": [
    {
     "name": "stderr",
     "output_type": "stream",
     "text": [
      "Using TensorFlow backend.\n"
     ]
    }
   ],
   "source": [
    "from magpie import utils"
   ]
  },
  {
   "cell_type": "code",
   "execution_count": 3,
   "metadata": {},
   "outputs": [
    {
     "data": {
      "text/plain": [
       "defaultdict(list,\n",
       "            {1898: ['Sports', 'World'], 1894: ['SciTech'], 1900: ['Business']})"
      ]
     },
     "execution_count": 3,
     "metadata": {},
     "output_type": "execute_result"
    }
   ],
   "source": [
    "utils.calculate_label_distribution('data', filtered_by=None)\n",
    "#label distribution 1898 Sports, 1898 World, 1894 SciTech and 1900 Business"
   ]
  },
  {
   "cell_type": "code",
   "execution_count": 4,
   "metadata": {},
   "outputs": [
    {
     "data": {
      "text/plain": [
       "dict_items([(1, 7590)])"
      ]
     },
     "execution_count": 4,
     "metadata": {},
     "output_type": "execute_result"
    }
   ],
   "source": [
    "utils.calculate_number_of_labels_distribution(\"data\", filtered_by=None)\n",
    "#total label count"
   ]
  },
  {
   "cell_type": "code",
   "execution_count": null,
   "metadata": {},
   "outputs": [],
   "source": []
  }
 ],
 "metadata": {
  "kernelspec": {
   "display_name": "Python 3",
   "language": "python",
   "name": "python3"
  },
  "language_info": {
   "codemirror_mode": {
    "name": "ipython",
    "version": 3
   },
   "file_extension": ".py",
   "mimetype": "text/x-python",
   "name": "python",
   "nbconvert_exporter": "python",
   "pygments_lexer": "ipython3",
   "version": "3.7.1"
  }
 },
 "nbformat": 4,
 "nbformat_minor": 2
}
