{
 "cells": [
  {
   "cell_type": "code",
   "execution_count": 3,
   "metadata": {},
   "outputs": [],
   "source": [
    "from magpie import Magpie\n",
    "\n",
    "magpie = Magpie()"
   ]
  },
  {
   "cell_type": "code",
   "execution_count": 4,
   "metadata": {},
   "outputs": [
    {
     "name": "stdout",
     "output_type": "stream",
     "text": [
      "Fitted to 27559 vectors\n",
      "Fitted to 27697 vectors\n",
      "Fitted to 28127 vectors\n",
      "Fitted to 27353 vectors\n",
      "Fitted to 27401 vectors\n",
      "Fitted to 26933 vectors\n",
      "Fitted to 26929 vectors\n",
      "Fitted to 11310 vectors\n"
     ]
    }
   ],
   "source": [
    "magpie.init_word_vectors('data', vec_dim=100)"
   ]
  },
  {
   "cell_type": "code",
   "execution_count": 5,
   "metadata": {},
   "outputs": [
    {
     "name": "stdout",
     "output_type": "stream",
     "text": [
      "WARNING:tensorflow:From C:\\Users\\Koral\\Anaconda3\\lib\\site-packages\\tensorflow\\python\\framework\\op_def_library.py:263: colocate_with (from tensorflow.python.framework.ops) is deprecated and will be removed in a future version.\n",
      "Instructions for updating:\n",
      "Colocations handled automatically by placer.\n",
      "WARNING:tensorflow:From C:\\Users\\Koral\\Anaconda3\\lib\\site-packages\\keras\\backend\\tensorflow_backend.py:3445: calling dropout (from tensorflow.python.ops.nn_ops) with keep_prob is deprecated and will be removed in a future version.\n",
      "Instructions for updating:\n",
      "Please use `rate` instead of `keep_prob`. Rate should be set to `rate = 1 - keep_prob`.\n",
      "WARNING:tensorflow:From C:\\Users\\Koral\\Anaconda3\\lib\\site-packages\\tensorflow\\python\\ops\\math_ops.py:3066: to_int32 (from tensorflow.python.ops.math_ops) is deprecated and will be removed in a future version.\n",
      "Instructions for updating:\n",
      "Use tf.cast instead.\n",
      "Train on 6072 samples, validate on 1518 samples\n",
      "Epoch 1/10\n",
      "6072/6072 [==============================] - 110s 18ms/step - loss: 0.6284 - top_k_categorical_accuracy: 1.0000 - val_loss: 0.5469 - val_top_k_categorical_accuracy: 1.0000\n",
      "Epoch 2/10\n",
      "6072/6072 [==============================] - 114s 19ms/step - loss: 0.5469 - top_k_categorical_accuracy: 1.0000 - val_loss: 0.4550 - val_top_k_categorical_accuracy: 1.0000\n",
      "Epoch 3/10\n",
      "6072/6072 [==============================] - 110s 18ms/step - loss: 0.5045 - top_k_categorical_accuracy: 1.0000 - val_loss: 0.4333 - val_top_k_categorical_accuracy: 1.0000\n",
      "Epoch 4/10\n",
      "6072/6072 [==============================] - 107s 18ms/step - loss: 0.4745 - top_k_categorical_accuracy: 1.0000 - val_loss: 0.4245 - val_top_k_categorical_accuracy: 1.0000\n",
      "Epoch 5/10\n",
      "6072/6072 [==============================] - 106s 17ms/step - loss: 0.4585 - top_k_categorical_accuracy: 1.0000 - val_loss: 0.4172 - val_top_k_categorical_accuracy: 1.0000\n",
      "Epoch 6/10\n",
      "6072/6072 [==============================] - 106s 17ms/step - loss: 0.4399 - top_k_categorical_accuracy: 1.0000 - val_loss: 0.4251 - val_top_k_categorical_accuracy: 1.0000\n",
      "Epoch 7/10\n",
      "6072/6072 [==============================] - 100s 16ms/step - loss: 0.4234 - top_k_categorical_accuracy: 1.0000 - val_loss: 0.3898 - val_top_k_categorical_accuracy: 1.0000\n",
      "Epoch 8/10\n",
      "6072/6072 [==============================] - 96s 16ms/step - loss: 0.4135 - top_k_categorical_accuracy: 1.0000 - val_loss: 0.3928 - val_top_k_categorical_accuracy: 1.0000\n",
      "Epoch 9/10\n",
      "6072/6072 [==============================] - 96s 16ms/step - loss: 0.4055 - top_k_categorical_accuracy: 1.0000 - val_loss: 0.3844 - val_top_k_categorical_accuracy: 1.0000\n",
      "Epoch 10/10\n",
      "6072/6072 [==============================] - 97s 16ms/step - loss: 0.4018 - top_k_categorical_accuracy: 1.0000 - val_loss: 0.3772 - val_top_k_categorical_accuracy: 1.0000\n"
     ]
    },
    {
     "data": {
      "text/plain": [
       "<keras.callbacks.History at 0x1405f500eb8>"
      ]
     },
     "execution_count": 5,
     "metadata": {},
     "output_type": "execute_result"
    }
   ],
   "source": [
    "labels = ['Business', 'SciTech', 'Sports', 'World']\n",
    "magpie.train('data', labels, test_ratio=0.2, epochs=10)\n",
    "#more epoch = more understanding of vector but used 10 in here for testing purposes"
   ]
  },
  {
   "cell_type": "code",
   "execution_count": 6,
   "metadata": {},
   "outputs": [
    {
     "data": {
      "text/plain": [
       "[('SciTech', 0.3567715),\n",
       " ('Business', 0.26840842),\n",
       " ('World', 0.2382621),\n",
       " ('Sports', 0.037425578)]"
      ]
     },
     "execution_count": 6,
     "metadata": {},
     "output_type": "execute_result"
    }
   ],
   "source": [
    "magpie.predict_from_file('data/1.txt')\n",
    "# Content of file: Unions representing workers at Turner Newall say they are 'disappointed' after talks with stricken parent firm Federal Mogul."
   ]
  },
  {
   "cell_type": "code",
   "execution_count": 7,
   "metadata": {},
   "outputs": [
    {
     "data": {
      "text/plain": [
       "[('SciTech', 0.9316265),\n",
       " ('Sports', 0.27737197),\n",
       " ('Business', 0.17861782),\n",
       " ('World', 0.028091403)]"
      ]
     },
     "execution_count": 7,
     "metadata": {},
     "output_type": "execute_result"
    }
   ],
   "source": [
    "magpie.predict_from_text('IBM shutdowns their headquarter')\n",
    "#Random text"
   ]
  },
  {
   "cell_type": "code",
   "execution_count": 15,
   "metadata": {
    "scrolled": false
   },
   "outputs": [],
   "source": [
    "magpie.save_word2vec_model('C:\\\\Users\\\\Koral\\\\Desktop\\\\mag\\\\model')\n",
    "#saving word2vec model for future use"
   ]
  },
  {
   "cell_type": "code",
   "execution_count": 14,
   "metadata": {},
   "outputs": [],
   "source": [
    "magpie.save_scaler('C:\\\\Users\\\\Koral\\\\Desktop\\\\mag\\\\scaler', overwrite=True)\n",
    "#saving scaler for future use"
   ]
  },
  {
   "cell_type": "code",
   "execution_count": 16,
   "metadata": {},
   "outputs": [],
   "source": [
    "magpie.save_model('C:\\\\Users\\\\Koral\\\\Desktop\\\\mag\\\\kerasModel.h5')\n",
    "#saving keras model for future use"
   ]
  },
  {
   "cell_type": "code",
   "execution_count": 18,
   "metadata": {},
   "outputs": [
    {
     "data": {
      "text/plain": [
       "[('SciTech', 0.7292983),\n",
       " ('Business', 0.24727196),\n",
       " ('World', 0.0760246),\n",
       " ('Sports', 0.019624202)]"
      ]
     },
     "execution_count": 18,
     "metadata": {},
     "output_type": "execute_result"
    }
   ],
   "source": [
    "magpie.predict_from_text('AP - A company founded by a chemistry researcher at the University of Louisville won a grant to develop a method of producing better peptides, which are short chains of amino acids, the building blocks of proteins.')\n",
    "#This text was labelled as SciTech"
   ]
  },
  {
   "cell_type": "code",
   "execution_count": null,
   "metadata": {},
   "outputs": [],
   "source": []
  }
 ],
 "metadata": {
  "kernelspec": {
   "display_name": "Python 3",
   "language": "python",
   "name": "python3"
  },
  "language_info": {
   "codemirror_mode": {
    "name": "ipython",
    "version": 3
   },
   "file_extension": ".py",
   "mimetype": "text/x-python",
   "name": "python",
   "nbconvert_exporter": "python",
   "pygments_lexer": "ipython3",
   "version": "3.7.1"
  }
 },
 "nbformat": 4,
 "nbformat_minor": 2
}
